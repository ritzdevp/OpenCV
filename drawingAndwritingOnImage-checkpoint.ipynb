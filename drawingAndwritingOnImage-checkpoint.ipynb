{
 "cells": [
  {
   "cell_type": "code",
   "execution_count": 1,
   "metadata": {
    "collapsed": true
   },
   "outputs": [],
   "source": [
    "import numpy as np\n",
    "import cv2\n",
    "\n",
    "img = cv2.imread('eiffel.jpg', cv2.IMREAD_COLOR)\n"
   ]
  },
  {
   "cell_type": "code",
   "execution_count": 11,
   "metadata": {},
   "outputs": [
    {
     "data": {
      "text/plain": [
       "array([[[255, 255, 255],\n",
       "        [255, 255, 255],\n",
       "        [255, 255, 255],\n",
       "        ..., \n",
       "        [197, 112,  12],\n",
       "        [197, 112,  13],\n",
       "        [196, 111,  12]],\n",
       "\n",
       "       [[255, 255, 255],\n",
       "        [255, 255, 255],\n",
       "        [255, 255, 255],\n",
       "        ..., \n",
       "        [197, 112,  12],\n",
       "        [197, 112,  13],\n",
       "        [196, 111,  12]],\n",
       "\n",
       "       [[255, 255, 255],\n",
       "        [255, 255, 255],\n",
       "        [255, 255, 255],\n",
       "        ..., \n",
       "        [197, 112,  13],\n",
       "        [197, 112,  13],\n",
       "        [197, 112,  13]],\n",
       "\n",
       "       ..., \n",
       "       [[ 34,  32,  21],\n",
       "        [ 36,  34,  23],\n",
       "        [ 38,  36,  25],\n",
       "        ..., \n",
       "        [ 65, 183, 154],\n",
       "        [ 62, 180, 151],\n",
       "        [ 53, 171, 142]],\n",
       "\n",
       "       [[ 16,  27,  17],\n",
       "        [ 15,  26,  16],\n",
       "        [ 16,  27,  17],\n",
       "        ..., \n",
       "        [111, 202, 179],\n",
       "        [101, 197, 173],\n",
       "        [ 87, 188, 162]],\n",
       "\n",
       "       [[  9,  20,  10],\n",
       "        [  8,  19,   9],\n",
       "        [  8,  19,   9],\n",
       "        ..., \n",
       "        [106, 197, 174],\n",
       "        [ 94, 190, 166],\n",
       "        [ 81, 182, 156]]], dtype=uint8)"
      ]
     },
     "execution_count": 11,
     "metadata": {},
     "output_type": "execute_result"
    }
   ],
   "source": [
    "cv2.line(img, (0,0), (150,150), (255,255,255), 15) # drawing a line on img with end points 0,0 and 150,150 and color \n",
    "#white (255,255,255)\n",
    "#corresponding to BGR and with thickness 15.\n",
    "\n",
    "cv2.rectangle(img, (15,25), (200,150),(0,255,0), 5) #drawing a rectangle\n",
    "\n",
    "cv2.circle(img, (100,63), 55, (0,0,255), -1) # a circle with centre 100,63 and radius 55 and color red and as the thickness\n",
    "#is -1 therefore the color fills 'in'\n",
    "\n",
    "pts = np.array([[10,5], [20,30], [70,20], [50,10]], np.int32)\n",
    "\n",
    "cv2.polylines(img, [pts], True, (0,255,255), 3)"
   ]
  },
  {
   "cell_type": "code",
   "execution_count": 14,
   "metadata": {},
   "outputs": [
    {
     "data": {
      "text/plain": [
       "array([[[255, 255, 255],\n",
       "        [255, 255, 255],\n",
       "        [255, 255, 255],\n",
       "        ..., \n",
       "        [197, 112,  12],\n",
       "        [197, 112,  13],\n",
       "        [196, 111,  12]],\n",
       "\n",
       "       [[255, 255, 255],\n",
       "        [255, 255, 255],\n",
       "        [255, 255, 255],\n",
       "        ..., \n",
       "        [197, 112,  12],\n",
       "        [197, 112,  13],\n",
       "        [196, 111,  12]],\n",
       "\n",
       "       [[255, 255, 255],\n",
       "        [255, 255, 255],\n",
       "        [255, 255, 255],\n",
       "        ..., \n",
       "        [197, 112,  13],\n",
       "        [197, 112,  13],\n",
       "        [197, 112,  13]],\n",
       "\n",
       "       ..., \n",
       "       [[ 34,  32,  21],\n",
       "        [ 36,  34,  23],\n",
       "        [ 38,  36,  25],\n",
       "        ..., \n",
       "        [ 65, 183, 154],\n",
       "        [ 62, 180, 151],\n",
       "        [ 53, 171, 142]],\n",
       "\n",
       "       [[ 16,  27,  17],\n",
       "        [ 15,  26,  16],\n",
       "        [ 16,  27,  17],\n",
       "        ..., \n",
       "        [111, 202, 179],\n",
       "        [101, 197, 173],\n",
       "        [ 87, 188, 162]],\n",
       "\n",
       "       [[  9,  20,  10],\n",
       "        [  8,  19,   9],\n",
       "        [  8,  19,   9],\n",
       "        ..., \n",
       "        [106, 197, 174],\n",
       "        [ 94, 190, 166],\n",
       "        [ 81, 182, 156]]], dtype=uint8)"
      ]
     },
     "execution_count": 14,
     "metadata": {},
     "output_type": "execute_result"
    }
   ],
   "source": [
    "#writing\n",
    "font = cv2.FONT_HERSHEY_SIMPLEX\n",
    "cv2.putText(img,'OpenCV trial', (0,130), font, 5, (200,255,255), 2 , cv2.LINE_AA)"
   ]
  },
  {
   "cell_type": "code",
   "execution_count": 15,
   "metadata": {
    "collapsed": true
   },
   "outputs": [],
   "source": [
    "cv2.imshow('image', img)\n",
    "cv2.waitKey(0)\n",
    "cv2.destroyAllWindows()"
   ]
  },
  {
   "cell_type": "code",
   "execution_count": null,
   "metadata": {
    "collapsed": true
   },
   "outputs": [],
   "source": []
  }
 ],
 "metadata": {
  "kernelspec": {
   "display_name": "Python 3",
   "language": "python",
   "name": "python3"
  },
  "language_info": {
   "codemirror_mode": {
    "name": "ipython",
    "version": 3
   },
   "file_extension": ".py",
   "mimetype": "text/x-python",
   "name": "python",
   "nbconvert_exporter": "python",
   "pygments_lexer": "ipython3",
   "version": "3.6.2"
  }
 },
 "nbformat": 4,
 "nbformat_minor": 2
}
